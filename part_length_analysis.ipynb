{
 "cells": [
  {
   "cell_type": "code",
   "execution_count": 3,
   "metadata": {},
   "outputs": [],
   "source": [
    "import os\n",
    "import sys\n",
    "from pathlib import Path\n",
    "from argparse import ArgumentParser\n",
    "import statistics\n",
    "counts = []\n",
    "input_filename = \"preprocessing/java-pico-test-target-only.train.raw.txt.bpe.full.txt\"\n",
    "with open(input_filename) as fp:\n",
    "    for line in fp:\n",
    "        line = line.rstrip()\n",
    "        split_line = line.split(\" \")\n",
    "        split_target = split_line[0].split(\"|\")\n",
    "        counts.append(len(split_target))"
   ]
  },
  {
   "cell_type": "code",
   "execution_count": 21,
   "metadata": {},
   "outputs": [
    {
     "data": {
      "image/png": "[encoded data removed]",
      "text/plain": [
       "<Figure size 432x288 with 1 Axes>"
      ]
     },
     "metadata": {
      "needs_background": "light"
     },
     "output_type": "display_data"
    }
   ],
   "source": [
    "import numpy as np\n",
    "import random\n",
    "from matplotlib import pyplot as plt\n",
    "\n",
    "\n",
    "# fixed bin size\n",
    "bins = np.arange(0, 25, 0.5) # fixed bin size\n",
    "f = plt.figure()\n",
    "plt.xlim([0, 25])\n",
    "\n",
    "plt.hist(counts, bins=bins, alpha=0.5)\n",
    "plt.title('Distribution of part lengths')\n",
    "plt.xlabel('Number of parts')\n",
    "plt.ylabel('Count')\n",
    "\n",
    "#plt.show()\n",
    "f.savefig(\"parts.pdf\", bbox_inches='tight')"
   ]
  },
  {
   "cell_type": "code",
   "execution_count": 18,
   "metadata": {},
   "outputs": [
    {
     "name": "stdout",
     "output_type": "stream",
     "text": [
      "Max Part length:  36\n",
      "Avg part length:  5.167778836987607\n",
      "Min part length:  1\n",
      "Median part length:  4\n"
     ]
    }
   ],
   "source": [
    "\n",
    "print(\"Max Part length: \", max(counts))\n",
    "print(\"Avg part length: \", sum(counts)/len(counts))\n",
    "print(\"Min part length: \", min(counts))\n",
    "print(\"Median part length: \", statistics.median(counts))"
   ]
  }
 ],
 "metadata": {
  "kernelspec": {
   "display_name": "Python 3",
   "language": "python",
   "name": "python3"
  },
  "language_info": {
   "codemirror_mode": {
    "name": "ipython",
    "version": 3
   },
   "file_extension": ".py",
   "mimetype": "text/x-python",
   "name": "python",
   "nbconvert_exporter": "python",
   "pygments_lexer": "ipython3",
   "version": "3.7.4"
  }
 },
 "nbformat": 4,
 "nbformat_minor": 2
}
